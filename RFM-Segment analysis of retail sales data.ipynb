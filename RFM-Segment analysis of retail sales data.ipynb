{
 "cells": [
  {
   "cell_type": "markdown",
   "metadata": {},
   "source": [
    "# 1.RFM theory and usage in Marketing Research field\n",
    "    "
   ]
  },
  {
   "cell_type": "markdown",
   "metadata": {},
   "source": [
    "RFM analysis is a method used for analysing existing customer and segmenting them into differenct categories so that marketers could target customers within each specific segment more effectively. It is based on simple theory that people are more likely to respond to a new offer if they had purchsed recently and if they are regular customer who had spent heavyly within the retail business. It is mostly used in direct marketing and normally the data should have each transaction in each row and there may be multiple transactions for each costomer.<br>\n",
    "RFM stands for the three dimensions:<br>\n",
    "Recency – How recently did the customer purchase? <br>\n",
    "Frequency – How often did the customer purchase?<br>\n",
    "Monetary Value – How much did the customer spend?<br>\n",
    "In order to classify customers according to their RFM behaviour, each customer is assigned a score based on one of the three aspects.For example,if you use a scale of 1-5 and for the customers with the most recent purchase dates you would rank them score of 1 which means they are the best customer in your theory. Consequently, on the same ranking scheme, you could rank customers who purchase most often as score of 1 and who spend the highest monetary values as score of 1.<br>A mock example is created for reference shown below."
   ]
  },
  {
   "cell_type": "markdown",
   "metadata": {},
   "source": [
    "![title](img/rfm.png)"
   ]
  },
  {
   "cell_type": "markdown",
   "metadata": {},
   "source": [
    "# 2. Dataset used for this tutorial and data cleasing"
   ]
  },
  {
   "cell_type": "markdown",
   "metadata": {},
   "source": [
    "The dataset will be used for this tutorial is from the link below.<br>\n",
    "http://archive.ics.uci.edu/ml/datasets/online+retail<br>\n",
    "This is a transnational data set which contains all the transactions occurring between 01/12/2010 and 09/12/2011 for a UK-based and registered non-store online retail. Since I only use it for illustration usage, I will only filter out Germany customers for this anslysis.\n",
    "\n"
   ]
  },
  {
   "cell_type": "code",
   "execution_count": 1,
   "metadata": {},
   "outputs": [
    {
     "data": {
      "text/plain": [
       "'3.7.0 (default, Jun 28 2018, 08:04:48) [MSC v.1912 64 bit (AMD64)]'"
      ]
     },
     "execution_count": 1,
     "metadata": {},
     "output_type": "execute_result"
    }
   ],
   "source": [
    "from IPython.core.interactiveshell import InteractiveShell\n",
    "InteractiveShell.ast_node_interactivity = \"all\"\n",
    "import pandas as pd\n",
    "import numpy as np\n",
    "import datetime as dt\n",
    "import sys\n",
    "sys.version"
   ]
  },
  {
   "cell_type": "code",
   "execution_count": 2,
   "metadata": {},
   "outputs": [],
   "source": [
    "df=pd.read_excel('Online Retail.xlsx')\n",
    "\n",
    "df.info()\n",
    "\n",
    "df.head()"
   ]
  },
  {
   "cell_type": "markdown",
   "metadata": {},
   "source": [
    "If we divide the data according to countries, we could have a rough idea that UK customers and Germany customers may be the largest two groups for the whole dataset becaue they have relatively large transactions."
   ]
  },
  {
   "cell_type": "code",
   "execution_count": 5,
   "metadata": {},
   "outputs": [
    {
     "data": {
      "text/plain": [
       "Country\n",
       "United Kingdom          495478\n",
       "Germany                   9495\n",
       "France                    8557\n",
       "EIRE                      8196\n",
       "Spain                     2533\n",
       "Netherlands               2371\n",
       "Belgium                   2069\n",
       "Switzerland               2002\n",
       "Portugal                  1519\n",
       "Australia                 1259\n",
       "Norway                    1086\n",
       "Italy                      803\n",
       "Channel Islands            758\n",
       "Finland                    695\n",
       "Cyprus                     622\n",
       "Sweden                     462\n",
       "Unspecified                446\n",
       "Austria                    401\n",
       "Denmark                    389\n",
       "Japan                      358\n",
       "Poland                     341\n",
       "Israel                     297\n",
       "USA                        291\n",
       "Hong Kong                  288\n",
       "Singapore                  229\n",
       "Iceland                    182\n",
       "Canada                     151\n",
       "Greece                     146\n",
       "Malta                      127\n",
       "United Arab Emirates        68\n",
       "European Community          61\n",
       "RSA                         58\n",
       "Lebanon                     45\n",
       "Lithuania                   35\n",
       "Brazil                      32\n",
       "Czech Republic              30\n",
       "Bahrain                     19\n",
       "Saudi Arabia                10\n",
       "Name: InvoiceNo, dtype: int64"
      ]
     },
     "execution_count": 5,
     "metadata": {},
     "output_type": "execute_result"
    }
   ],
   "source": [
    "df.groupby('Country')['InvoiceNo'].count().sort_values(ascending=False)"
   ]
  },
  {
   "cell_type": "markdown",
   "metadata": {},
   "source": [
    "### I will only use Germany customers for analysis because the data size is relatively small."
   ]
  },
  {
   "cell_type": "code",
   "execution_count": 6,
   "metadata": {},
   "outputs": [],
   "source": [
    "Germany=df[df.Country==\"Germany\"]\n",
    "\n",
    "\n",
    "Germany.info()"
   ]
  },
  {
   "cell_type": "markdown",
   "metadata": {},
   "source": [
    "We could see that there are only about 95 unique customers in Germany for the online retail business. "
   ]
  },
  {
   "cell_type": "code",
   "execution_count": 8,
   "metadata": {},
   "outputs": [
    {
     "data": {
      "text/plain": [
       "InvoiceNo       603\n",
       "StockCode      1671\n",
       "Description    1703\n",
       "Quantity         68\n",
       "InvoiceDate     598\n",
       "UnitPrice       106\n",
       "CustomerID       95\n",
       "Country           1\n",
       "dtype: int64"
      ]
     },
     "execution_count": 8,
     "metadata": {},
     "output_type": "execute_result"
    }
   ],
   "source": [
    "Germany.nunique()\n",
    "\n",
    "Germany.describe()"
   ]
  },
  {
   "cell_type": "markdown",
   "metadata": {},
   "source": [
    "### Since there should not be any data value less than zero in the Quantify variable,I will remove the negative values. It turn out that there is only 1 customer has the negative value.\n"
   ]
  },
  {
   "cell_type": "code",
   "execution_count": 10,
   "metadata": {},
   "outputs": [
    {
     "data": {
      "text/plain": [
       "(9042, 8)"
      ]
     },
     "execution_count": 10,
     "metadata": {},
     "output_type": "execute_result"
    },
    {
     "data": {
      "text/plain": [
       "InvoiceNo       457\n",
       "StockCode      1665\n",
       "Description    1697\n",
       "Quantity         47\n",
       "InvoiceDate     452\n",
       "UnitPrice       106\n",
       "CustomerID       94\n",
       "Country           1\n",
       "dtype: int64"
      ]
     },
     "execution_count": 10,
     "metadata": {},
     "output_type": "execute_result"
    }
   ],
   "source": [
    "Germany = Germany[(Germany['Quantity']>0)]\n",
    "Germany.shape\n",
    "Germany.nunique()"
   ]
  },
  {
   "cell_type": "markdown",
   "metadata": {},
   "source": [
    "### create monetary value 'Sales' "
   ]
  },
  {
   "cell_type": "code",
   "execution_count": 11,
   "metadata": {},
   "outputs": [],
   "source": [
    "Germany[\"Sales\"]=Germany[\"Quantity\"]*Germany[\"UnitPrice\"]\n",
    "\n",
    "Germany[\"UnitPrice\"].describe()"
   ]
  },
  {
   "cell_type": "markdown",
   "metadata": {},
   "source": [
    "### check purchase date and create cutoff date "
   ]
  },
  {
   "cell_type": "code",
   "execution_count": 13,
   "metadata": {},
   "outputs": [
    {
     "data": {
      "text/plain": [
       "count                    9042\n",
       "unique                    452\n",
       "top       2011-01-07 12:28:00\n",
       "freq                      149\n",
       "first     2010-12-01 13:04:00\n",
       "last      2011-12-09 12:16:00\n",
       "Name: InvoiceDate, dtype: object"
      ]
     },
     "execution_count": 13,
     "metadata": {},
     "output_type": "execute_result"
    }
   ],
   "source": [
    "Germany[\"InvoiceDate\"].describe()\n",
    "\n",
    "Germany[\"InvoiceDate\"]=pd.to_datetime(Germany[\"InvoiceDate\"])\n",
    "\n",
    "cutoff_date=dt.datetime(2011,12,10)\n",
    "\n",
    "df1=Germany.copy()"
   ]
  },
  {
   "cell_type": "markdown",
   "metadata": {},
   "source": [
    "# 3. RFM data analysis"
   ]
  },
  {
   "cell_type": "code",
   "execution_count": 17,
   "metadata": {},
   "outputs": [],
   "source": [
    "rfm=df1.groupby('CustomerID').agg({'InvoiceDate':lambda x: (cutoff_date-x.max()).days,\n",
    "                                 \"InvoiceNo\": lambda x: len(x),\n",
    "                                 \"Sales\": lambda x: x.sum()})\n",
    "\n",
    "rfm['InvoiceDate']=rfm['InvoiceDate'].astype(int)\n",
    "\n",
    "rfm.rename(columns={\"InvoiceDate\":\"Recency\",\n",
    "                   \"InvoiceNo\":\"Frequency\",\n",
    "                   \"Sales\":\"MonetaryValue\"},inplace=True)\n",
    "rfm.sort_values('Recency').tail(10)"
   ]
  },
  {
   "cell_type": "markdown",
   "metadata": {},
   "source": [
    "The customer with CustomerID=12665 whose last purchase from the online business was nearly one year ago and for the past year the customer only purchased three times with total monetary value worth $63. Comparing with other frequent customers, this customer is definitely far from being our profitable and loyal customer. Let's check the info in detail for curiosity reason."
   ]
  },
  {
   "cell_type": "code",
   "execution_count": 20,
   "metadata": {},
   "outputs": [
    {
     "data": {
      "text/html": [
       "<div>\n",
       "<style scoped>\n",
       "    .dataframe tbody tr th:only-of-type {\n",
       "        vertical-align: middle;\n",
       "    }\n",
       "\n",
       "    .dataframe tbody tr th {\n",
       "        vertical-align: top;\n",
       "    }\n",
       "\n",
       "    .dataframe thead th {\n",
       "        text-align: right;\n",
       "    }\n",
       "</style>\n",
       "<table border=\"1\" class=\"dataframe\">\n",
       "  <thead>\n",
       "    <tr style=\"text-align: right;\">\n",
       "      <th></th>\n",
       "      <th>InvoiceNo</th>\n",
       "      <th>StockCode</th>\n",
       "      <th>Description</th>\n",
       "      <th>Quantity</th>\n",
       "      <th>InvoiceDate</th>\n",
       "      <th>UnitPrice</th>\n",
       "      <th>CustomerID</th>\n",
       "      <th>Country</th>\n",
       "      <th>Sales</th>\n",
       "    </tr>\n",
       "  </thead>\n",
       "  <tbody>\n",
       "    <tr>\n",
       "      <th>62995</th>\n",
       "      <td>541517</td>\n",
       "      <td>21232</td>\n",
       "      <td>STRAWBERRY CERAMIC TRINKET BOX</td>\n",
       "      <td>24</td>\n",
       "      <td>2011-01-19 08:34:00</td>\n",
       "      <td>1.25</td>\n",
       "      <td>12665.0</td>\n",
       "      <td>Germany</td>\n",
       "      <td>30.0</td>\n",
       "    </tr>\n",
       "    <tr>\n",
       "      <th>62996</th>\n",
       "      <td>541517</td>\n",
       "      <td>POST</td>\n",
       "      <td>POSTAGE</td>\n",
       "      <td>1</td>\n",
       "      <td>2011-01-19 08:34:00</td>\n",
       "      <td>18.00</td>\n",
       "      <td>12665.0</td>\n",
       "      <td>Germany</td>\n",
       "      <td>18.0</td>\n",
       "    </tr>\n",
       "    <tr>\n",
       "      <th>62997</th>\n",
       "      <td>541517</td>\n",
       "      <td>21231</td>\n",
       "      <td>SWEETHEART CERAMIC TRINKET BOX</td>\n",
       "      <td>12</td>\n",
       "      <td>2011-01-19 08:34:00</td>\n",
       "      <td>1.25</td>\n",
       "      <td>12665.0</td>\n",
       "      <td>Germany</td>\n",
       "      <td>15.0</td>\n",
       "    </tr>\n",
       "  </tbody>\n",
       "</table>\n",
       "</div>"
      ],
      "text/plain": [
       "      InvoiceNo StockCode                     Description  Quantity  \\\n",
       "62995    541517     21232  STRAWBERRY CERAMIC TRINKET BOX        24   \n",
       "62996    541517      POST                         POSTAGE         1   \n",
       "62997    541517     21231  SWEETHEART CERAMIC TRINKET BOX        12   \n",
       "\n",
       "              InvoiceDate  UnitPrice  CustomerID  Country  Sales  \n",
       "62995 2011-01-19 08:34:00       1.25     12665.0  Germany   30.0  \n",
       "62996 2011-01-19 08:34:00      18.00     12665.0  Germany   18.0  \n",
       "62997 2011-01-19 08:34:00       1.25     12665.0  Germany   15.0  "
      ]
     },
     "execution_count": 20,
     "metadata": {},
     "output_type": "execute_result"
    }
   ],
   "source": [
    "low_value_customer=df1[df1[\"CustomerID\"]==12665.0]\n",
    "low_value_customer"
   ]
  },
  {
   "cell_type": "markdown",
   "metadata": {},
   "source": [
    "## calculate RFM Scores using percentiles"
   ]
  },
  {
   "cell_type": "markdown",
   "metadata": {},
   "source": [
    "### Since we need to rank each RFM metirc to calculate respective RFM score, the most convinient way to do so is using percentiles. We will split each metric into 5 segments."
   ]
  },
  {
   "cell_type": "code",
   "execution_count": 21,
   "metadata": {},
   "outputs": [
    {
     "data": {
      "text/plain": [
       "{'Recency': {0.2: 14.600000000000001,\n",
       "  0.4: 23.400000000000006,\n",
       "  0.6: 58.8,\n",
       "  0.8: 129.4},\n",
       " 'Frequency': {0.2: 20.0,\n",
       "  0.4: 36.400000000000006,\n",
       "  0.6: 68.8,\n",
       "  0.8: 155.20000000000002},\n",
       " 'MonetaryValue': {0.2: 428.84000000000003,\n",
       "  0.4: 748.652,\n",
       "  0.6: 1683.8000000000002,\n",
       "  0.8: 3885.2880000000005}}"
      ]
     },
     "execution_count": 21,
     "metadata": {},
     "output_type": "execute_result"
    }
   ],
   "source": [
    "quantile=rfm.quantile(q=[.2,.4,.6,.8])\n",
    "quantile=quantile.to_dict()\n",
    "quantile"
   ]
  },
  {
   "cell_type": "markdown",
   "metadata": {},
   "source": [
    "Since we our definition of best customer is customer  with highest monetary value and highest frequency but lowest recency.  We should rank Recency differently compared with the other two variables."
   ]
  },
  {
   "cell_type": "code",
   "execution_count": 22,
   "metadata": {},
   "outputs": [],
   "source": [
    "def R_score(x,percentile,d):\n",
    "    if x<=d[percentile][.2]:\n",
    "        return str(1)\n",
    "    elif x<=d[percentile][.4]:\n",
    "        return str(2)\n",
    "    elif x<=d[percentile][.6]:\n",
    "        return str(3)\n",
    "    elif x<=d[percentile][.8]:\n",
    "        return str(4)\n",
    "    else:\n",
    "        return str(5)\n",
    "def FM_score(x,percentile,d):\n",
    "    if x<=d[percentile][.2]:\n",
    "        return str(5)\n",
    "    elif x<=d[percentile][.4]:\n",
    "        return str(4)\n",
    "    elif x<=d[percentile][.6]:\n",
    "        return str(3)\n",
    "    elif x<=d[percentile][.8]:\n",
    "        return str(2)\n",
    "    else:\n",
    "        return str(1)\n",
    "    "
   ]
  },
  {
   "cell_type": "code",
   "execution_count": 23,
   "metadata": {},
   "outputs": [],
   "source": [
    "rfm[\"R_score\"]=rfm[\"Recency\"].apply(R_score,args=('Recency',quantile,))\n",
    "rfm[\"F_score\"]=rfm[\"Frequency\"].apply(FM_score,args=('Frequency',quantile,))\n",
    "rfm[\"M_score\"]=rfm[\"MonetaryValue\"].apply(FM_score,args=('MonetaryValue',quantile,))\n",
    "rfm[\"RFM_score\"]=(rfm[\"R_score\"]+rfm[\"F_score\"]+rfm[\"M_score\"]).astype(int)\n",
    "rfm=rfm.reset_index()\n",
    "\n",
    "rfm.info()\n",
    "\n",
    "rfm.sort_values('RFM_score').head(10)"
   ]
  },
  {
   "cell_type": "markdown",
   "metadata": {},
   "source": [
    "## we could see that only 5 customers out of 94 customers are labeled as '111' which stands for our most valuable and loyal customer."
   ]
  },
  {
   "cell_type": "code",
   "execution_count": 26,
   "metadata": {},
   "outputs": [
    {
     "data": {
      "text/html": [
       "<div>\n",
       "<style scoped>\n",
       "    .dataframe tbody tr th:only-of-type {\n",
       "        vertical-align: middle;\n",
       "    }\n",
       "\n",
       "    .dataframe tbody tr th {\n",
       "        vertical-align: top;\n",
       "    }\n",
       "\n",
       "    .dataframe thead th {\n",
       "        text-align: right;\n",
       "    }\n",
       "</style>\n",
       "<table border=\"1\" class=\"dataframe\">\n",
       "  <thead>\n",
       "    <tr style=\"text-align: right;\">\n",
       "      <th></th>\n",
       "      <th>CustomerID</th>\n",
       "      <th>Recency</th>\n",
       "      <th>Frequency</th>\n",
       "      <th>MonetaryValue</th>\n",
       "      <th>R_score</th>\n",
       "      <th>F_score</th>\n",
       "      <th>M_score</th>\n",
       "      <th>RFM_score</th>\n",
       "    </tr>\n",
       "  </thead>\n",
       "  <tbody>\n",
       "    <tr>\n",
       "      <th>53</th>\n",
       "      <td>12622.0</td>\n",
       "      <td>232</td>\n",
       "      <td>11</td>\n",
       "      <td>180.10</td>\n",
       "      <td>5</td>\n",
       "      <td>5</td>\n",
       "      <td>5</td>\n",
       "      <td>555</td>\n",
       "    </tr>\n",
       "    <tr>\n",
       "      <th>54</th>\n",
       "      <td>12623.0</td>\n",
       "      <td>276</td>\n",
       "      <td>18</td>\n",
       "      <td>305.10</td>\n",
       "      <td>5</td>\n",
       "      <td>5</td>\n",
       "      <td>5</td>\n",
       "      <td>555</td>\n",
       "    </tr>\n",
       "    <tr>\n",
       "      <th>35</th>\n",
       "      <td>12561.0</td>\n",
       "      <td>302</td>\n",
       "      <td>16</td>\n",
       "      <td>238.85</td>\n",
       "      <td>5</td>\n",
       "      <td>5</td>\n",
       "      <td>5</td>\n",
       "      <td>555</td>\n",
       "    </tr>\n",
       "    <tr>\n",
       "      <th>84</th>\n",
       "      <td>12738.0</td>\n",
       "      <td>372</td>\n",
       "      <td>11</td>\n",
       "      <td>155.35</td>\n",
       "      <td>5</td>\n",
       "      <td>5</td>\n",
       "      <td>5</td>\n",
       "      <td>555</td>\n",
       "    </tr>\n",
       "    <tr>\n",
       "      <th>70</th>\n",
       "      <td>12665.0</td>\n",
       "      <td>324</td>\n",
       "      <td>3</td>\n",
       "      <td>63.00</td>\n",
       "      <td>5</td>\n",
       "      <td>5</td>\n",
       "      <td>5</td>\n",
       "      <td>555</td>\n",
       "    </tr>\n",
       "  </tbody>\n",
       "</table>\n",
       "</div>"
      ],
      "text/plain": [
       "    CustomerID  Recency  Frequency  MonetaryValue R_score F_score M_score  \\\n",
       "53     12622.0      232         11         180.10       5       5       5   \n",
       "54     12623.0      276         18         305.10       5       5       5   \n",
       "35     12561.0      302         16         238.85       5       5       5   \n",
       "84     12738.0      372         11         155.35       5       5       5   \n",
       "70     12665.0      324          3          63.00       5       5       5   \n",
       "\n",
       "    RFM_score  \n",
       "53        555  \n",
       "54        555  \n",
       "35        555  \n",
       "84        555  \n",
       "70        555  "
      ]
     },
     "execution_count": 26,
     "metadata": {},
     "output_type": "execute_result"
    }
   ],
   "source": [
    "rfm.sort_values('RFM_score').tail()"
   ]
  },
  {
   "cell_type": "markdown",
   "metadata": {},
   "source": [
    "# 4. Summary\n",
    "By using RFM analysis, we could divide our retail customers into different segments and by doing so we could promote our products more effectively and improve specific KPIs accordingly."
   ]
  },
  {
   "cell_type": "code",
   "execution_count": null,
   "metadata": {},
   "outputs": [],
   "source": []
  }
 ],
 "metadata": {
  "kernelspec": {
   "display_name": "Python 3",
   "language": "python",
   "name": "python3"
  },
  "language_info": {
   "codemirror_mode": {
    "name": "ipython",
    "version": 3
   },
   "file_extension": ".py",
   "mimetype": "text/x-python",
   "name": "python",
   "nbconvert_exporter": "python",
   "pygments_lexer": "ipython3",
   "version": "3.7.0"
  }
 },
 "nbformat": 4,
 "nbformat_minor": 2
}
