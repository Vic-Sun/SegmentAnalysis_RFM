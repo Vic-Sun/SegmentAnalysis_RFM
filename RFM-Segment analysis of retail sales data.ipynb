{
 "cells": [
  {
   "cell_type": "markdown",
   "metadata": {},
   "source": [
    "# 1.RFM theroy and usage in Marketing Research field\n",
    "    "
   ]
  },
  {
   "cell_type": "markdown",
   "metadata": {},
   "source": [
    "RFM analysis is a method used for analysing existing customer and segmenting them into differenct categories so that marketers could target customers within each specific segment more effectively. It is based on simple theory that people are more likely to respond to a new offer if they had purchsed recently and if they are regular customer who had spent heavyly within the retail business. It is mostly used in direct marketing and normally the data should have each transaction in each row and there may be multiple transactions for each costomer..<br>\n",
    "RFM stands for the three dimensions:<br>\n",
    "Recency – How recently did the customer purchase? <br>\n",
    "Frequency – How often did the customer purchase?<br>\n",
    "Monetary Value – How much did the customer spend?<br>\n",
    "In order to classify customers according to their RFM behaviour, each customer is assigned a score based on one of the three aspects.For example,if you use a scale of 1-5 and for the customers with the most recent purchase dates you would rank them score of 1 which means they are the best customer in your theory. Consequently, on the same ranking scheme, you could rank customers who purchase most often as score of 1 and who spend the highest monetary values as score of 1.<br>A mock example is created for reference shown below."
   ]
  },
  {
   "cell_type": "markdown",
   "metadata": {},
   "source": [
    "![title](img/rfm.png)"
   ]
  },
  {
   "cell_type": "markdown",
   "metadata": {},
   "source": [
    "# 2. Dataset used for this tutorial and data cleasing"
   ]
  },
  {
   "cell_type": "markdown",
   "metadata": {},
   "source": [
    "The dataset will be used for this tutorial is from the link below.<br>\n",
    "http://archive.ics.uci.edu/ml/datasets/online+retail<br>\n",
    "This is a transnational data set which contains all the transactions occurring between 01/12/2010 and 09/12/2011 for a UK-based and registered non-store online retail. Since I only use it for illustration usage, I will only filter out Germany customers for this anslysis.\n",
    "\n"
   ]
  },
  {
   "cell_type": "code",
   "execution_count": 1,
   "metadata": {},
   "outputs": [
    {
     "data": {
      "text/plain": [
       "'3.7.0 (default, Jun 28 2018, 08:04:48) [MSC v.1912 64 bit (AMD64)]'"
      ]
     },
     "execution_count": 1,
     "metadata": {},
     "output_type": "execute_result"
    }
   ],
   "source": [
    "from IPython.core.interactiveshell import InteractiveShell\n",
    "InteractiveShell.ast_node_interactivity = \"all\"\n",
    "import pandas as pd\n",
    "import numpy as np\n",
    "import datetime as dt\n",
    "import sys\n",
    "sys.version"
   ]
  },
  {
   "cell_type": "code",
   "execution_count": 2,
   "metadata": {},
   "outputs": [],
   "source": [
    "df=pd.read_excel('Online Retail.xlsx')"
   ]
  },
  {
   "cell_type": "code",
   "execution_count": 3,
   "metadata": {},
   "outputs": [
    {
     "name": "stdout",
     "output_type": "stream",
     "text": [
      "<class 'pandas.core.frame.DataFrame'>\n",
      "RangeIndex: 541909 entries, 0 to 541908\n",
      "Data columns (total 8 columns):\n",
      "InvoiceNo      541909 non-null object\n",
      "StockCode      541909 non-null object\n",
      "Description    540455 non-null object\n",
      "Quantity       541909 non-null int64\n",
      "InvoiceDate    541909 non-null datetime64[ns]\n",
      "UnitPrice      541909 non-null float64\n",
      "CustomerID     406829 non-null float64\n",
      "Country        541909 non-null object\n",
      "dtypes: datetime64[ns](1), float64(2), int64(1), object(4)\n",
      "memory usage: 33.1+ MB\n"
     ]
    }
   ],
   "source": [
    "df.info()"
   ]
  },
  {
   "cell_type": "code",
   "execution_count": 4,
   "metadata": {},
   "outputs": [
    {
     "data": {
      "text/html": [
       "<div>\n",
       "<style scoped>\n",
       "    .dataframe tbody tr th:only-of-type {\n",
       "        vertical-align: middle;\n",
       "    }\n",
       "\n",
       "    .dataframe tbody tr th {\n",
       "        vertical-align: top;\n",
       "    }\n",
       "\n",
       "    .dataframe thead th {\n",
       "        text-align: right;\n",
       "    }\n",
       "</style>\n",
       "<table border=\"1\" class=\"dataframe\">\n",
       "  <thead>\n",
       "    <tr style=\"text-align: right;\">\n",
       "      <th></th>\n",
       "      <th>InvoiceNo</th>\n",
       "      <th>StockCode</th>\n",
       "      <th>Description</th>\n",
       "      <th>Quantity</th>\n",
       "      <th>InvoiceDate</th>\n",
       "      <th>UnitPrice</th>\n",
       "      <th>CustomerID</th>\n",
       "      <th>Country</th>\n",
       "    </tr>\n",
       "  </thead>\n",
       "  <tbody>\n",
       "    <tr>\n",
       "      <th>0</th>\n",
       "      <td>536365</td>\n",
       "      <td>85123A</td>\n",
       "      <td>WHITE HANGING HEART T-LIGHT HOLDER</td>\n",
       "      <td>6</td>\n",
       "      <td>2010-12-01 08:26:00</td>\n",
       "      <td>2.55</td>\n",
       "      <td>17850.0</td>\n",
       "      <td>United Kingdom</td>\n",
       "    </tr>\n",
       "    <tr>\n",
       "      <th>1</th>\n",
       "      <td>536365</td>\n",
       "      <td>71053</td>\n",
       "      <td>WHITE METAL LANTERN</td>\n",
       "      <td>6</td>\n",
       "      <td>2010-12-01 08:26:00</td>\n",
       "      <td>3.39</td>\n",
       "      <td>17850.0</td>\n",
       "      <td>United Kingdom</td>\n",
       "    </tr>\n",
       "    <tr>\n",
       "      <th>2</th>\n",
       "      <td>536365</td>\n",
       "      <td>84406B</td>\n",
       "      <td>CREAM CUPID HEARTS COAT HANGER</td>\n",
       "      <td>8</td>\n",
       "      <td>2010-12-01 08:26:00</td>\n",
       "      <td>2.75</td>\n",
       "      <td>17850.0</td>\n",
       "      <td>United Kingdom</td>\n",
       "    </tr>\n",
       "    <tr>\n",
       "      <th>3</th>\n",
       "      <td>536365</td>\n",
       "      <td>84029G</td>\n",
       "      <td>KNITTED UNION FLAG HOT WATER BOTTLE</td>\n",
       "      <td>6</td>\n",
       "      <td>2010-12-01 08:26:00</td>\n",
       "      <td>3.39</td>\n",
       "      <td>17850.0</td>\n",
       "      <td>United Kingdom</td>\n",
       "    </tr>\n",
       "    <tr>\n",
       "      <th>4</th>\n",
       "      <td>536365</td>\n",
       "      <td>84029E</td>\n",
       "      <td>RED WOOLLY HOTTIE WHITE HEART.</td>\n",
       "      <td>6</td>\n",
       "      <td>2010-12-01 08:26:00</td>\n",
       "      <td>3.39</td>\n",
       "      <td>17850.0</td>\n",
       "      <td>United Kingdom</td>\n",
       "    </tr>\n",
       "  </tbody>\n",
       "</table>\n",
       "</div>"
      ],
      "text/plain": [
       "  InvoiceNo StockCode                          Description  Quantity  \\\n",
       "0    536365    85123A   WHITE HANGING HEART T-LIGHT HOLDER         6   \n",
       "1    536365     71053                  WHITE METAL LANTERN         6   \n",
       "2    536365    84406B       CREAM CUPID HEARTS COAT HANGER         8   \n",
       "3    536365    84029G  KNITTED UNION FLAG HOT WATER BOTTLE         6   \n",
       "4    536365    84029E       RED WOOLLY HOTTIE WHITE HEART.         6   \n",
       "\n",
       "          InvoiceDate  UnitPrice  CustomerID         Country  \n",
       "0 2010-12-01 08:26:00       2.55     17850.0  United Kingdom  \n",
       "1 2010-12-01 08:26:00       3.39     17850.0  United Kingdom  \n",
       "2 2010-12-01 08:26:00       2.75     17850.0  United Kingdom  \n",
       "3 2010-12-01 08:26:00       3.39     17850.0  United Kingdom  \n",
       "4 2010-12-01 08:26:00       3.39     17850.0  United Kingdom  "
      ]
     },
     "execution_count": 4,
     "metadata": {},
     "output_type": "execute_result"
    }
   ],
   "source": [
    "df.head()"
   ]
  },
  {
   "cell_type": "markdown",
   "metadata": {},
   "source": [
    "If we divide the data according to countries, we could have a rough idea that UK customers and Germany customers may be the largest two groups for the whole dataset becaue they have relatively large transactions."
   ]
  },
  {
   "cell_type": "code",
   "execution_count": 5,
   "metadata": {},
   "outputs": [
    {
     "data": {
      "text/plain": [
       "Country\n",
       "United Kingdom          495478\n",
       "Germany                   9495\n",
       "France                    8557\n",
       "EIRE                      8196\n",
       "Spain                     2533\n",
       "Netherlands               2371\n",
       "Belgium                   2069\n",
       "Switzerland               2002\n",
       "Portugal                  1519\n",
       "Australia                 1259\n",
       "Norway                    1086\n",
       "Italy                      803\n",
       "Channel Islands            758\n",
       "Finland                    695\n",
       "Cyprus                     622\n",
       "Sweden                     462\n",
       "Unspecified                446\n",
       "Austria                    401\n",
       "Denmark                    389\n",
       "Japan                      358\n",
       "Poland                     341\n",
       "Israel                     297\n",
       "USA                        291\n",
       "Hong Kong                  288\n",
       "Singapore                  229\n",
       "Iceland                    182\n",
       "Canada                     151\n",
       "Greece                     146\n",
       "Malta                      127\n",
       "United Arab Emirates        68\n",
       "European Community          61\n",
       "RSA                         58\n",
       "Lebanon                     45\n",
       "Lithuania                   35\n",
       "Brazil                      32\n",
       "Czech Republic              30\n",
       "Bahrain                     19\n",
       "Saudi Arabia                10\n",
       "Name: InvoiceNo, dtype: int64"
      ]
     },
     "execution_count": 5,
     "metadata": {},
     "output_type": "execute_result"
    }
   ],
   "source": [
    "df.groupby('Country')['InvoiceNo'].count().sort_values(ascending=False)"
   ]
  },
  {
   "cell_type": "markdown",
   "metadata": {},
   "source": [
    "### I will only use Germany customers for analysis because the data size is relatively small."
   ]
  },
  {
   "cell_type": "code",
   "execution_count": 6,
   "metadata": {},
   "outputs": [],
   "source": [
    "Germany=df[df.Country==\"Germany\"]\n"
   ]
  },
  {
   "cell_type": "code",
   "execution_count": 7,
   "metadata": {},
   "outputs": [
    {
     "name": "stdout",
     "output_type": "stream",
     "text": [
      "<class 'pandas.core.frame.DataFrame'>\n",
      "Int64Index: 9495 entries, 1109 to 541805\n",
      "Data columns (total 8 columns):\n",
      "InvoiceNo      9495 non-null object\n",
      "StockCode      9495 non-null object\n",
      "Description    9495 non-null object\n",
      "Quantity       9495 non-null int64\n",
      "InvoiceDate    9495 non-null datetime64[ns]\n",
      "UnitPrice      9495 non-null float64\n",
      "CustomerID     9495 non-null float64\n",
      "Country        9495 non-null object\n",
      "dtypes: datetime64[ns](1), float64(2), int64(1), object(4)\n",
      "memory usage: 667.6+ KB\n"
     ]
    }
   ],
   "source": [
    "Germany.info()"
   ]
  },
  {
   "cell_type": "markdown",
   "metadata": {},
   "source": [
    "We could see that there are only about 95 unique customers in Germany for the online retail business "
   ]
  },
  {
   "cell_type": "code",
   "execution_count": 8,
   "metadata": {},
   "outputs": [
    {
     "data": {
      "text/plain": [
       "InvoiceNo       603\n",
       "StockCode      1671\n",
       "Description    1703\n",
       "Quantity         68\n",
       "InvoiceDate     598\n",
       "UnitPrice       106\n",
       "CustomerID       95\n",
       "Country           1\n",
       "dtype: int64"
      ]
     },
     "execution_count": 8,
     "metadata": {},
     "output_type": "execute_result"
    }
   ],
   "source": [
    "Germany.nunique()"
   ]
  },
  {
   "cell_type": "code",
   "execution_count": 9,
   "metadata": {},
   "outputs": [
    {
     "data": {
      "text/html": [
       "<div>\n",
       "<style scoped>\n",
       "    .dataframe tbody tr th:only-of-type {\n",
       "        vertical-align: middle;\n",
       "    }\n",
       "\n",
       "    .dataframe tbody tr th {\n",
       "        vertical-align: top;\n",
       "    }\n",
       "\n",
       "    .dataframe thead th {\n",
       "        text-align: right;\n",
       "    }\n",
       "</style>\n",
       "<table border=\"1\" class=\"dataframe\">\n",
       "  <thead>\n",
       "    <tr style=\"text-align: right;\">\n",
       "      <th></th>\n",
       "      <th>Quantity</th>\n",
       "      <th>UnitPrice</th>\n",
       "      <th>CustomerID</th>\n",
       "    </tr>\n",
       "  </thead>\n",
       "  <tbody>\n",
       "    <tr>\n",
       "      <th>count</th>\n",
       "      <td>9495.000000</td>\n",
       "      <td>9495.000000</td>\n",
       "      <td>9495.000000</td>\n",
       "    </tr>\n",
       "    <tr>\n",
       "      <th>mean</th>\n",
       "      <td>12.369458</td>\n",
       "      <td>3.966930</td>\n",
       "      <td>12646.139336</td>\n",
       "    </tr>\n",
       "    <tr>\n",
       "      <th>std</th>\n",
       "      <td>17.865719</td>\n",
       "      <td>16.549026</td>\n",
       "      <td>309.138487</td>\n",
       "    </tr>\n",
       "    <tr>\n",
       "      <th>min</th>\n",
       "      <td>-288.000000</td>\n",
       "      <td>0.000000</td>\n",
       "      <td>12426.000000</td>\n",
       "    </tr>\n",
       "    <tr>\n",
       "      <th>25%</th>\n",
       "      <td>5.000000</td>\n",
       "      <td>1.250000</td>\n",
       "      <td>12480.000000</td>\n",
       "    </tr>\n",
       "    <tr>\n",
       "      <th>50%</th>\n",
       "      <td>10.000000</td>\n",
       "      <td>1.950000</td>\n",
       "      <td>12592.000000</td>\n",
       "    </tr>\n",
       "    <tr>\n",
       "      <th>75%</th>\n",
       "      <td>12.000000</td>\n",
       "      <td>3.750000</td>\n",
       "      <td>12662.000000</td>\n",
       "    </tr>\n",
       "    <tr>\n",
       "      <th>max</th>\n",
       "      <td>600.000000</td>\n",
       "      <td>599.500000</td>\n",
       "      <td>14335.000000</td>\n",
       "    </tr>\n",
       "  </tbody>\n",
       "</table>\n",
       "</div>"
      ],
      "text/plain": [
       "          Quantity    UnitPrice    CustomerID\n",
       "count  9495.000000  9495.000000   9495.000000\n",
       "mean     12.369458     3.966930  12646.139336\n",
       "std      17.865719    16.549026    309.138487\n",
       "min    -288.000000     0.000000  12426.000000\n",
       "25%       5.000000     1.250000  12480.000000\n",
       "50%      10.000000     1.950000  12592.000000\n",
       "75%      12.000000     3.750000  12662.000000\n",
       "max     600.000000   599.500000  14335.000000"
      ]
     },
     "execution_count": 9,
     "metadata": {},
     "output_type": "execute_result"
    }
   ],
   "source": [
    "Germany.describe()"
   ]
  },
  {
   "cell_type": "markdown",
   "metadata": {},
   "source": [
    "### Since there should not be any data value less than zero in the Quantify variable,I will remove the negative values. It turn out that there is only 1 customer has the negative value.\n"
   ]
  },
  {
   "cell_type": "code",
   "execution_count": 10,
   "metadata": {},
   "outputs": [
    {
     "data": {
      "text/plain": [
       "(9042, 8)"
      ]
     },
     "execution_count": 10,
     "metadata": {},
     "output_type": "execute_result"
    },
    {
     "data": {
      "text/plain": [
       "InvoiceNo       457\n",
       "StockCode      1665\n",
       "Description    1697\n",
       "Quantity         47\n",
       "InvoiceDate     452\n",
       "UnitPrice       106\n",
       "CustomerID       94\n",
       "Country           1\n",
       "dtype: int64"
      ]
     },
     "execution_count": 10,
     "metadata": {},
     "output_type": "execute_result"
    }
   ],
   "source": [
    "Germany = Germany[(Germany['Quantity']>0)]\n",
    "Germany.shape\n",
    "Germany.nunique()"
   ]
  },
  {
   "cell_type": "markdown",
   "metadata": {},
   "source": [
    "### create monetary value 'Sales' "
   ]
  },
  {
   "cell_type": "code",
   "execution_count": 11,
   "metadata": {},
   "outputs": [],
   "source": [
    "Germany[\"Sales\"]=Germany[\"Quantity\"]*Germany[\"UnitPrice\"]"
   ]
  },
  {
   "cell_type": "code",
   "execution_count": 12,
   "metadata": {},
   "outputs": [
    {
     "data": {
      "text/plain": [
       "count    9042.000000\n",
       "mean        3.708487\n",
       "std        13.155279\n",
       "min         0.000000\n",
       "25%         1.250000\n",
       "50%         1.950000\n",
       "75%         3.750000\n",
       "max       599.500000\n",
       "Name: UnitPrice, dtype: float64"
      ]
     },
     "execution_count": 12,
     "metadata": {},
     "output_type": "execute_result"
    }
   ],
   "source": [
    "Germany[\"UnitPrice\"].describe()"
   ]
  },
  {
   "cell_type": "markdown",
   "metadata": {},
   "source": [
    "### check purchase date and create cutoff date "
   ]
  },
  {
   "cell_type": "code",
   "execution_count": 13,
   "metadata": {},
   "outputs": [
    {
     "data": {
      "text/plain": [
       "count                    9042\n",
       "unique                    452\n",
       "top       2011-01-07 12:28:00\n",
       "freq                      149\n",
       "first     2010-12-01 13:04:00\n",
       "last      2011-12-09 12:16:00\n",
       "Name: InvoiceDate, dtype: object"
      ]
     },
     "execution_count": 13,
     "metadata": {},
     "output_type": "execute_result"
    }
   ],
   "source": [
    "Germany[\"InvoiceDate\"].describe()"
   ]
  },
  {
   "cell_type": "code",
   "execution_count": 14,
   "metadata": {},
   "outputs": [],
   "source": [
    "Germany[\"InvoiceDate\"]=pd.to_datetime(Germany[\"InvoiceDate\"])"
   ]
  },
  {
   "cell_type": "code",
   "execution_count": 15,
   "metadata": {},
   "outputs": [],
   "source": [
    "cutoff_date=dt.datetime(2011,12,10)"
   ]
  },
  {
   "cell_type": "code",
   "execution_count": 16,
   "metadata": {},
   "outputs": [],
   "source": [
    "df1=Germany.copy()"
   ]
  },
  {
   "cell_type": "markdown",
   "metadata": {},
   "source": [
    "# 3. RFM data analysis"
   ]
  },
  {
   "cell_type": "code",
   "execution_count": 17,
   "metadata": {},
   "outputs": [],
   "source": [
    "rfm=df1.groupby('CustomerID').agg({'InvoiceDate':lambda x: (cutoff_date-x.max()).days,\n",
    "                                 \"InvoiceNo\": lambda x: len(x),\n",
    "                                 \"Sales\": lambda x: x.sum()})"
   ]
  },
  {
   "cell_type": "code",
   "execution_count": 18,
   "metadata": {},
   "outputs": [],
   "source": [
    "rfm['InvoiceDate']=rfm['InvoiceDate'].astype(int)"
   ]
  },
  {
   "cell_type": "code",
   "execution_count": 19,
   "metadata": {},
   "outputs": [
    {
     "data": {
      "text/html": [
       "<div>\n",
       "<style scoped>\n",
       "    .dataframe tbody tr th:only-of-type {\n",
       "        vertical-align: middle;\n",
       "    }\n",
       "\n",
       "    .dataframe tbody tr th {\n",
       "        vertical-align: top;\n",
       "    }\n",
       "\n",
       "    .dataframe thead th {\n",
       "        text-align: right;\n",
       "    }\n",
       "</style>\n",
       "<table border=\"1\" class=\"dataframe\">\n",
       "  <thead>\n",
       "    <tr style=\"text-align: right;\">\n",
       "      <th></th>\n",
       "      <th>Recency</th>\n",
       "      <th>Frequency</th>\n",
       "      <th>MonetaryValue</th>\n",
       "    </tr>\n",
       "    <tr>\n",
       "      <th>CustomerID</th>\n",
       "      <th></th>\n",
       "      <th></th>\n",
       "      <th></th>\n",
       "    </tr>\n",
       "  </thead>\n",
       "  <tbody>\n",
       "    <tr>\n",
       "      <th>12622.0</th>\n",
       "      <td>232</td>\n",
       "      <td>11</td>\n",
       "      <td>180.10</td>\n",
       "    </tr>\n",
       "    <tr>\n",
       "      <th>12585.0</th>\n",
       "      <td>234</td>\n",
       "      <td>87</td>\n",
       "      <td>2040.10</td>\n",
       "    </tr>\n",
       "    <tr>\n",
       "      <th>12580.0</th>\n",
       "      <td>246</td>\n",
       "      <td>24</td>\n",
       "      <td>415.70</td>\n",
       "    </tr>\n",
       "    <tr>\n",
       "      <th>12623.0</th>\n",
       "      <td>276</td>\n",
       "      <td>18</td>\n",
       "      <td>305.10</td>\n",
       "    </tr>\n",
       "    <tr>\n",
       "      <th>12614.0</th>\n",
       "      <td>277</td>\n",
       "      <td>20</td>\n",
       "      <td>315.60</td>\n",
       "    </tr>\n",
       "    <tr>\n",
       "      <th>12561.0</th>\n",
       "      <td>302</td>\n",
       "      <td>16</td>\n",
       "      <td>238.85</td>\n",
       "    </tr>\n",
       "    <tr>\n",
       "      <th>12559.0</th>\n",
       "      <td>310</td>\n",
       "      <td>21</td>\n",
       "      <td>561.71</td>\n",
       "    </tr>\n",
       "    <tr>\n",
       "      <th>12665.0</th>\n",
       "      <td>324</td>\n",
       "      <td>3</td>\n",
       "      <td>63.00</td>\n",
       "    </tr>\n",
       "    <tr>\n",
       "      <th>12501.0</th>\n",
       "      <td>336</td>\n",
       "      <td>149</td>\n",
       "      <td>2169.39</td>\n",
       "    </tr>\n",
       "    <tr>\n",
       "      <th>12738.0</th>\n",
       "      <td>372</td>\n",
       "      <td>11</td>\n",
       "      <td>155.35</td>\n",
       "    </tr>\n",
       "  </tbody>\n",
       "</table>\n",
       "</div>"
      ],
      "text/plain": [
       "            Recency  Frequency  MonetaryValue\n",
       "CustomerID                                   \n",
       "12622.0         232         11         180.10\n",
       "12585.0         234         87        2040.10\n",
       "12580.0         246         24         415.70\n",
       "12623.0         276         18         305.10\n",
       "12614.0         277         20         315.60\n",
       "12561.0         302         16         238.85\n",
       "12559.0         310         21         561.71\n",
       "12665.0         324          3          63.00\n",
       "12501.0         336        149        2169.39\n",
       "12738.0         372         11         155.35"
      ]
     },
     "execution_count": 19,
     "metadata": {},
     "output_type": "execute_result"
    }
   ],
   "source": [
    "rfm.rename(columns={\"InvoiceDate\":\"Recency\",\n",
    "                   \"InvoiceNo\":\"Frequency\",\n",
    "                   \"Sales\":\"MonetaryValue\"},inplace=True)\n",
    "rfm.sort_values('Recency').tail(10)"
   ]
  },
  {
   "cell_type": "markdown",
   "metadata": {},
   "source": [
    "The customer with CustomerID=12665 whose last purchase from the online business was nearly one year ago and for the past year the customer only purchased three times with total monetary value worth $63. Comparing with other frequent customers, this customer is definitely far from being our profitable and loyal customer. Let's check the info in detail for curiosity reason."
   ]
  },
  {
   "cell_type": "code",
   "execution_count": 20,
   "metadata": {},
   "outputs": [
    {
     "data": {
      "text/html": [
       "<div>\n",
       "<style scoped>\n",
       "    .dataframe tbody tr th:only-of-type {\n",
       "        vertical-align: middle;\n",
       "    }\n",
       "\n",
       "    .dataframe tbody tr th {\n",
       "        vertical-align: top;\n",
       "    }\n",
       "\n",
       "    .dataframe thead th {\n",
       "        text-align: right;\n",
       "    }\n",
       "</style>\n",
       "<table border=\"1\" class=\"dataframe\">\n",
       "  <thead>\n",
       "    <tr style=\"text-align: right;\">\n",
       "      <th></th>\n",
       "      <th>InvoiceNo</th>\n",
       "      <th>StockCode</th>\n",
       "      <th>Description</th>\n",
       "      <th>Quantity</th>\n",
       "      <th>InvoiceDate</th>\n",
       "      <th>UnitPrice</th>\n",
       "      <th>CustomerID</th>\n",
       "      <th>Country</th>\n",
       "      <th>Sales</th>\n",
       "    </tr>\n",
       "  </thead>\n",
       "  <tbody>\n",
       "    <tr>\n",
       "      <th>62995</th>\n",
       "      <td>541517</td>\n",
       "      <td>21232</td>\n",
       "      <td>STRAWBERRY CERAMIC TRINKET BOX</td>\n",
       "      <td>24</td>\n",
       "      <td>2011-01-19 08:34:00</td>\n",
       "      <td>1.25</td>\n",
       "      <td>12665.0</td>\n",
       "      <td>Germany</td>\n",
       "      <td>30.0</td>\n",
       "    </tr>\n",
       "    <tr>\n",
       "      <th>62996</th>\n",
       "      <td>541517</td>\n",
       "      <td>POST</td>\n",
       "      <td>POSTAGE</td>\n",
       "      <td>1</td>\n",
       "      <td>2011-01-19 08:34:00</td>\n",
       "      <td>18.00</td>\n",
       "      <td>12665.0</td>\n",
       "      <td>Germany</td>\n",
       "      <td>18.0</td>\n",
       "    </tr>\n",
       "    <tr>\n",
       "      <th>62997</th>\n",
       "      <td>541517</td>\n",
       "      <td>21231</td>\n",
       "      <td>SWEETHEART CERAMIC TRINKET BOX</td>\n",
       "      <td>12</td>\n",
       "      <td>2011-01-19 08:34:00</td>\n",
       "      <td>1.25</td>\n",
       "      <td>12665.0</td>\n",
       "      <td>Germany</td>\n",
       "      <td>15.0</td>\n",
       "    </tr>\n",
       "  </tbody>\n",
       "</table>\n",
       "</div>"
      ],
      "text/plain": [
       "      InvoiceNo StockCode                     Description  Quantity  \\\n",
       "62995    541517     21232  STRAWBERRY CERAMIC TRINKET BOX        24   \n",
       "62996    541517      POST                         POSTAGE         1   \n",
       "62997    541517     21231  SWEETHEART CERAMIC TRINKET BOX        12   \n",
       "\n",
       "              InvoiceDate  UnitPrice  CustomerID  Country  Sales  \n",
       "62995 2011-01-19 08:34:00       1.25     12665.0  Germany   30.0  \n",
       "62996 2011-01-19 08:34:00      18.00     12665.0  Germany   18.0  \n",
       "62997 2011-01-19 08:34:00       1.25     12665.0  Germany   15.0  "
      ]
     },
     "execution_count": 20,
     "metadata": {},
     "output_type": "execute_result"
    }
   ],
   "source": [
    "low_value_customer=df1[df1[\"CustomerID\"]==12665.0]\n",
    "low_value_customer"
   ]
  },
  {
   "cell_type": "markdown",
   "metadata": {},
   "source": [
    "## calculate RFM Scores using percentiles"
   ]
  },
  {
   "cell_type": "markdown",
   "metadata": {},
   "source": [
    "### Since we need to rank each RFM metirc to calculate respective RFM score, the most convinient way to do so is using percentiles. We will split each metric into 5 segments."
   ]
  },
  {
   "cell_type": "code",
   "execution_count": 21,
   "metadata": {},
   "outputs": [
    {
     "data": {
      "text/plain": [
       "{'Recency': {0.2: 14.600000000000001,\n",
       "  0.4: 23.400000000000006,\n",
       "  0.6: 58.8,\n",
       "  0.8: 129.4},\n",
       " 'Frequency': {0.2: 20.0,\n",
       "  0.4: 36.400000000000006,\n",
       "  0.6: 68.8,\n",
       "  0.8: 155.20000000000002},\n",
       " 'MonetaryValue': {0.2: 428.84000000000003,\n",
       "  0.4: 748.652,\n",
       "  0.6: 1683.8000000000002,\n",
       "  0.8: 3885.2880000000005}}"
      ]
     },
     "execution_count": 21,
     "metadata": {},
     "output_type": "execute_result"
    }
   ],
   "source": [
    "quantile=rfm.quantile(q=[.2,.4,.6,.8])\n",
    "quantile=quantile.to_dict()\n",
    "quantile"
   ]
  },
  {
   "cell_type": "markdown",
   "metadata": {},
   "source": [
    "Since we our definition of best customer is customer  with highest monetary value and highest frequency but lowest recency. We could rank Recency differently with the other two variables."
   ]
  },
  {
   "cell_type": "code",
   "execution_count": 22,
   "metadata": {},
   "outputs": [],
   "source": [
    "def R_score(x,percentile,d):\n",
    "    if x<=d[percentile][.2]:\n",
    "        return str(1)\n",
    "    elif x<=d[percentile][.4]:\n",
    "        return str(2)\n",
    "    elif x<=d[percentile][.6]:\n",
    "        return str(3)\n",
    "    elif x<=d[percentile][.8]:\n",
    "        return str(4)\n",
    "    else:\n",
    "        return str(5)\n",
    "def FM_score(x,percentile,d):\n",
    "    if x<=d[percentile][.2]:\n",
    "        return str(5)\n",
    "    elif x<=d[percentile][.4]:\n",
    "        return str(4)\n",
    "    elif x<=d[percentile][.6]:\n",
    "        return str(3)\n",
    "    elif x<=d[percentile][.8]:\n",
    "        return str(2)\n",
    "    else:\n",
    "        return str(1)\n",
    "    "
   ]
  },
  {
   "cell_type": "code",
   "execution_count": 23,
   "metadata": {},
   "outputs": [],
   "source": [
    "rfm[\"R_score\"]=rfm[\"Recency\"].apply(R_score,args=('Recency',quantile,))\n",
    "rfm[\"F_score\"]=rfm[\"Frequency\"].apply(FM_score,args=('Frequency',quantile,))\n",
    "rfm[\"M_score\"]=rfm[\"MonetaryValue\"].apply(FM_score,args=('MonetaryValue',quantile,))\n",
    "rfm[\"RFM_score\"]=(rfm[\"R_score\"]+rfm[\"F_score\"]+rfm[\"M_score\"]).astype(int)\n",
    "rfm=rfm.reset_index()"
   ]
  },
  {
   "cell_type": "code",
   "execution_count": 24,
   "metadata": {},
   "outputs": [
    {
     "name": "stdout",
     "output_type": "stream",
     "text": [
      "<class 'pandas.core.frame.DataFrame'>\n",
      "RangeIndex: 94 entries, 0 to 93\n",
      "Data columns (total 8 columns):\n",
      "CustomerID       94 non-null float64\n",
      "Recency          94 non-null int32\n",
      "Frequency        94 non-null int64\n",
      "MonetaryValue    94 non-null float64\n",
      "R_score          94 non-null object\n",
      "F_score          94 non-null object\n",
      "M_score          94 non-null object\n",
      "RFM_score        94 non-null int32\n",
      "dtypes: float64(2), int32(2), int64(1), object(3)\n",
      "memory usage: 5.2+ KB\n"
     ]
    }
   ],
   "source": [
    "rfm.info()"
   ]
  },
  {
   "cell_type": "code",
   "execution_count": 25,
   "metadata": {
    "scrolled": true
   },
   "outputs": [
    {
     "data": {
      "text/html": [
       "<div>\n",
       "<style scoped>\n",
       "    .dataframe tbody tr th:only-of-type {\n",
       "        vertical-align: middle;\n",
       "    }\n",
       "\n",
       "    .dataframe tbody tr th {\n",
       "        vertical-align: top;\n",
       "    }\n",
       "\n",
       "    .dataframe thead th {\n",
       "        text-align: right;\n",
       "    }\n",
       "</style>\n",
       "<table border=\"1\" class=\"dataframe\">\n",
       "  <thead>\n",
       "    <tr style=\"text-align: right;\">\n",
       "      <th></th>\n",
       "      <th>CustomerID</th>\n",
       "      <th>Recency</th>\n",
       "      <th>Frequency</th>\n",
       "      <th>MonetaryValue</th>\n",
       "      <th>R_score</th>\n",
       "      <th>F_score</th>\n",
       "      <th>M_score</th>\n",
       "      <th>RFM_score</th>\n",
       "    </tr>\n",
       "  </thead>\n",
       "  <tbody>\n",
       "    <tr>\n",
       "      <th>52</th>\n",
       "      <td>12621.0</td>\n",
       "      <td>1</td>\n",
       "      <td>467</td>\n",
       "      <td>13689.67</td>\n",
       "      <td>1</td>\n",
       "      <td>1</td>\n",
       "      <td>1</td>\n",
       "      <td>111</td>\n",
       "    </tr>\n",
       "    <tr>\n",
       "      <th>3</th>\n",
       "      <td>12471.0</td>\n",
       "      <td>2</td>\n",
       "      <td>460</td>\n",
       "      <td>19824.05</td>\n",
       "      <td>1</td>\n",
       "      <td>1</td>\n",
       "      <td>1</td>\n",
       "      <td>111</td>\n",
       "    </tr>\n",
       "    <tr>\n",
       "      <th>83</th>\n",
       "      <td>12720.0</td>\n",
       "      <td>2</td>\n",
       "      <td>354</td>\n",
       "      <td>5781.73</td>\n",
       "      <td>1</td>\n",
       "      <td>1</td>\n",
       "      <td>1</td>\n",
       "      <td>111</td>\n",
       "    </tr>\n",
       "    <tr>\n",
       "      <th>57</th>\n",
       "      <td>12627.0</td>\n",
       "      <td>10</td>\n",
       "      <td>230</td>\n",
       "      <td>4478.53</td>\n",
       "      <td>1</td>\n",
       "      <td>1</td>\n",
       "      <td>1</td>\n",
       "      <td>111</td>\n",
       "    </tr>\n",
       "    <tr>\n",
       "      <th>37</th>\n",
       "      <td>12569.0</td>\n",
       "      <td>2</td>\n",
       "      <td>188</td>\n",
       "      <td>4124.69</td>\n",
       "      <td>1</td>\n",
       "      <td>1</td>\n",
       "      <td>1</td>\n",
       "      <td>111</td>\n",
       "    </tr>\n",
       "    <tr>\n",
       "      <th>71</th>\n",
       "      <td>12668.0</td>\n",
       "      <td>11</td>\n",
       "      <td>161</td>\n",
       "      <td>3807.15</td>\n",
       "      <td>1</td>\n",
       "      <td>1</td>\n",
       "      <td>2</td>\n",
       "      <td>112</td>\n",
       "    </tr>\n",
       "    <tr>\n",
       "      <th>69</th>\n",
       "      <td>12662.0</td>\n",
       "      <td>0</td>\n",
       "      <td>230</td>\n",
       "      <td>3849.78</td>\n",
       "      <td>1</td>\n",
       "      <td>1</td>\n",
       "      <td>2</td>\n",
       "      <td>112</td>\n",
       "    </tr>\n",
       "    <tr>\n",
       "      <th>26</th>\n",
       "      <td>12524.0</td>\n",
       "      <td>9</td>\n",
       "      <td>144</td>\n",
       "      <td>4485.72</td>\n",
       "      <td>1</td>\n",
       "      <td>2</td>\n",
       "      <td>1</td>\n",
       "      <td>121</td>\n",
       "    </tr>\n",
       "    <tr>\n",
       "      <th>29</th>\n",
       "      <td>12528.0</td>\n",
       "      <td>9</td>\n",
       "      <td>92</td>\n",
       "      <td>1933.48</td>\n",
       "      <td>1</td>\n",
       "      <td>2</td>\n",
       "      <td>2</td>\n",
       "      <td>122</td>\n",
       "    </tr>\n",
       "    <tr>\n",
       "      <th>21</th>\n",
       "      <td>12518.0</td>\n",
       "      <td>0</td>\n",
       "      <td>124</td>\n",
       "      <td>2056.89</td>\n",
       "      <td>1</td>\n",
       "      <td>2</td>\n",
       "      <td>2</td>\n",
       "      <td>122</td>\n",
       "    </tr>\n",
       "  </tbody>\n",
       "</table>\n",
       "</div>"
      ],
      "text/plain": [
       "    CustomerID  Recency  Frequency  MonetaryValue R_score F_score M_score  \\\n",
       "52     12621.0        1        467       13689.67       1       1       1   \n",
       "3      12471.0        2        460       19824.05       1       1       1   \n",
       "83     12720.0        2        354        5781.73       1       1       1   \n",
       "57     12627.0       10        230        4478.53       1       1       1   \n",
       "37     12569.0        2        188        4124.69       1       1       1   \n",
       "71     12668.0       11        161        3807.15       1       1       2   \n",
       "69     12662.0        0        230        3849.78       1       1       2   \n",
       "26     12524.0        9        144        4485.72       1       2       1   \n",
       "29     12528.0        9         92        1933.48       1       2       2   \n",
       "21     12518.0        0        124        2056.89       1       2       2   \n",
       "\n",
       "    RFM_score  \n",
       "52        111  \n",
       "3         111  \n",
       "83        111  \n",
       "57        111  \n",
       "37        111  \n",
       "71        112  \n",
       "69        112  \n",
       "26        121  \n",
       "29        122  \n",
       "21        122  "
      ]
     },
     "execution_count": 25,
     "metadata": {},
     "output_type": "execute_result"
    }
   ],
   "source": [
    "rfm.sort_values('RFM_score').head(10)"
   ]
  },
  {
   "cell_type": "markdown",
   "metadata": {},
   "source": [
    "## we could see that only 5 customers out of 94 customers are labeled as '111' which stands for our most valuable and loyal customer."
   ]
  },
  {
   "cell_type": "code",
   "execution_count": 26,
   "metadata": {},
   "outputs": [
    {
     "data": {
      "text/html": [
       "<div>\n",
       "<style scoped>\n",
       "    .dataframe tbody tr th:only-of-type {\n",
       "        vertical-align: middle;\n",
       "    }\n",
       "\n",
       "    .dataframe tbody tr th {\n",
       "        vertical-align: top;\n",
       "    }\n",
       "\n",
       "    .dataframe thead th {\n",
       "        text-align: right;\n",
       "    }\n",
       "</style>\n",
       "<table border=\"1\" class=\"dataframe\">\n",
       "  <thead>\n",
       "    <tr style=\"text-align: right;\">\n",
       "      <th></th>\n",
       "      <th>CustomerID</th>\n",
       "      <th>Recency</th>\n",
       "      <th>Frequency</th>\n",
       "      <th>MonetaryValue</th>\n",
       "      <th>R_score</th>\n",
       "      <th>F_score</th>\n",
       "      <th>M_score</th>\n",
       "      <th>RFM_score</th>\n",
       "    </tr>\n",
       "  </thead>\n",
       "  <tbody>\n",
       "    <tr>\n",
       "      <th>53</th>\n",
       "      <td>12622.0</td>\n",
       "      <td>232</td>\n",
       "      <td>11</td>\n",
       "      <td>180.10</td>\n",
       "      <td>5</td>\n",
       "      <td>5</td>\n",
       "      <td>5</td>\n",
       "      <td>555</td>\n",
       "    </tr>\n",
       "    <tr>\n",
       "      <th>54</th>\n",
       "      <td>12623.0</td>\n",
       "      <td>276</td>\n",
       "      <td>18</td>\n",
       "      <td>305.10</td>\n",
       "      <td>5</td>\n",
       "      <td>5</td>\n",
       "      <td>5</td>\n",
       "      <td>555</td>\n",
       "    </tr>\n",
       "    <tr>\n",
       "      <th>35</th>\n",
       "      <td>12561.0</td>\n",
       "      <td>302</td>\n",
       "      <td>16</td>\n",
       "      <td>238.85</td>\n",
       "      <td>5</td>\n",
       "      <td>5</td>\n",
       "      <td>5</td>\n",
       "      <td>555</td>\n",
       "    </tr>\n",
       "    <tr>\n",
       "      <th>84</th>\n",
       "      <td>12738.0</td>\n",
       "      <td>372</td>\n",
       "      <td>11</td>\n",
       "      <td>155.35</td>\n",
       "      <td>5</td>\n",
       "      <td>5</td>\n",
       "      <td>5</td>\n",
       "      <td>555</td>\n",
       "    </tr>\n",
       "    <tr>\n",
       "      <th>70</th>\n",
       "      <td>12665.0</td>\n",
       "      <td>324</td>\n",
       "      <td>3</td>\n",
       "      <td>63.00</td>\n",
       "      <td>5</td>\n",
       "      <td>5</td>\n",
       "      <td>5</td>\n",
       "      <td>555</td>\n",
       "    </tr>\n",
       "  </tbody>\n",
       "</table>\n",
       "</div>"
      ],
      "text/plain": [
       "    CustomerID  Recency  Frequency  MonetaryValue R_score F_score M_score  \\\n",
       "53     12622.0      232         11         180.10       5       5       5   \n",
       "54     12623.0      276         18         305.10       5       5       5   \n",
       "35     12561.0      302         16         238.85       5       5       5   \n",
       "84     12738.0      372         11         155.35       5       5       5   \n",
       "70     12665.0      324          3          63.00       5       5       5   \n",
       "\n",
       "    RFM_score  \n",
       "53        555  \n",
       "54        555  \n",
       "35        555  \n",
       "84        555  \n",
       "70        555  "
      ]
     },
     "execution_count": 26,
     "metadata": {},
     "output_type": "execute_result"
    }
   ],
   "source": [
    "rfm.sort_values('RFM_score').tail()"
   ]
  },
  {
   "cell_type": "markdown",
   "metadata": {},
   "source": [
    "# 4. Summary\n",
    "By using RFM analysis, we could divide our retail customers into different segments and by doing so we could promote our products more effectively and improve specific KPIs accordingly."
   ]
  },
  {
   "cell_type": "code",
   "execution_count": null,
   "metadata": {},
   "outputs": [],
   "source": []
  }
 ],
 "metadata": {
  "kernelspec": {
   "display_name": "Python 3",
   "language": "python",
   "name": "python3"
  },
  "language_info": {
   "codemirror_mode": {
    "name": "ipython",
    "version": 3
   },
   "file_extension": ".py",
   "mimetype": "text/x-python",
   "name": "python",
   "nbconvert_exporter": "python",
   "pygments_lexer": "ipython3",
   "version": "3.7.0"
  }
 },
 "nbformat": 4,
 "nbformat_minor": 2
}
