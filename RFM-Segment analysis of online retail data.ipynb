{
 "cells": [
  {
   "cell_type": "markdown",
   "metadata": {},
   "source": [
    "# 1.RFM theroy and usage in Marketing Research field\n",
    "    "
   ]
  },
  {
   "cell_type": "markdown",
   "metadata": {},
   "source": [
    "RFM analysis is a method used for analysing existing customer (i.e. their life time value) and segmenting them into differenct categories so that marketers could target customers within each specific segment more effectively. It is based on simple theory that people are more likely to respond to a new offer if they had purchsed recently and if they are regular customer who had spent heavyly within the retail business. It is mostly used in direct marketing and normally the data should have each transaction in each row and there may be multiple transactions for each costomer..<br>\n",
    "RFM stands for the three dimensions:<br>\n",
    "Recency – How recently did the customer purchase? <br>\n",
    "Frequency – How often did the customer purchase?<br>\n",
    "Monetary Value – How much did the customer spend?<br>\n",
    "In order to classify customers according to their RFM behaviour, each customer is assigned a score based on one of the three aspects.For example,if you use a scale of 1-5 and for the customers with the most recent purchase dates you would rank them score of 1 which means they are the best customer in your theory. Consequently, on the same ranking scheme, you could rank customers who purchase most often as score of 1 and who spend the highest monetary values as score of 1."
   ]
  },
  {
   "cell_type": "code",
   "execution_count": 4,
   "metadata": {},
   "outputs": [
    {
     "name": "stderr",
     "output_type": "stream",
     "text": [
      "'[alt' is not recognized as an internal or external command,\n",
      "operable program or batch file.\n"
     ]
    }
   ],
   "source": [
    "![alt text](file/rfm.png \"Title\")"
   ]
  },
  {
   "cell_type": "code",
   "execution_count": null,
   "metadata": {},
   "outputs": [],
   "source": []
  }
 ],
 "metadata": {
  "kernelspec": {
   "display_name": "Python 3",
   "language": "python",
   "name": "python3"
  },
  "language_info": {
   "codemirror_mode": {
    "name": "ipython",
    "version": 3
   },
   "file_extension": ".py",
   "mimetype": "text/x-python",
   "name": "python",
   "nbconvert_exporter": "python",
   "pygments_lexer": "ipython3",
   "version": "3.7.0"
  }
 },
 "nbformat": 4,
 "nbformat_minor": 2
}
